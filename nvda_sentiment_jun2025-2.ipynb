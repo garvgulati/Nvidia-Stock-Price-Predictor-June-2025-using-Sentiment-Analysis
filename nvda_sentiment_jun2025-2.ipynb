{
  "cells": [
    {
      "cell_type": "code",
      "execution_count": 2,
      "metadata": {
        "colab": {
          "base_uri": "https://localhost:8080/"
        },
        "id": "mcSd_Dds4U43",
        "outputId": "edc848c9-8f81-4440-d193-8ff306c7e5d6"
      },
      "outputs": [
        {
          "name": "stdout",
          "output_type": "stream",
          "text": [
            "Defaulting to user installation because normal site-packages is not writeable\n",
            "Requirement already satisfied: yfinance in c:\\users\\Anonymous\\appdata\\local\\packages\\pythonsoftwarefoundation.python.3.13_qbz5n2kfra8p0\\localcache\\local-packages\\python313\\site-packages (0.2.65)\n",
            "Requirement already satisfied: pandas>=1.3.0 in c:\\users\\Anonymous\\appdata\\local\\packages\\pythonsoftwarefoundation.python.3.13_qbz5n2kfra8p0\\localcache\\local-packages\\python313\\site-packages (from yfinance) (2.3.1)\n",
            "Requirement already satisfied: numpy>=1.16.5 in c:\\users\\Anonymous\\appdata\\local\\packages\\pythonsoftwarefoundation.python.3.13_qbz5n2kfra8p0\\localcache\\local-packages\\python313\\site-packages (from yfinance) (2.3.1)\n",
            "Requirement already satisfied: requests>=2.31 in c:\\users\\Anonymous\\appdata\\local\\packages\\pythonsoftwarefoundation.python.3.13_qbz5n2kfra8p0\\localcache\\local-packages\\python313\\site-packages (from yfinance) (2.32.4)\n",
            "Requirement already satisfied: multitasking>=0.0.7 in c:\\users\\Anonymous\\appdata\\local\\packages\\pythonsoftwarefoundation.python.3.13_qbz5n2kfra8p0\\localcache\\local-packages\\python313\\site-packages (from yfinance) (0.0.11)\n",
            "Requirement already satisfied: platformdirs>=2.0.0 in c:\\users\\Anonymous\\appdata\\local\\packages\\pythonsoftwarefoundation.python.3.13_qbz5n2kfra8p0\\localcache\\local-packages\\python313\\site-packages (from yfinance) (4.3.8)\n",
            "Requirement already satisfied: pytz>=2022.5 in c:\\users\\Anonymous\\appdata\\local\\packages\\pythonsoftwarefoundation.python.3.13_qbz5n2kfra8p0\\localcache\\local-packages\\python313\\site-packages (from yfinance) (2025.2)\n",
            "Requirement already satisfied: frozendict>=2.3.4 in c:\\users\\Anonymous\\appdata\\local\\packages\\pythonsoftwarefoundation.python.3.13_qbz5n2kfra8p0\\localcache\\local-packages\\python313\\site-packages (from yfinance) (2.4.6)\n",
            "Requirement already satisfied: peewee>=3.16.2 in c:\\users\\Anonymous\\appdata\\local\\packages\\pythonsoftwarefoundation.python.3.13_qbz5n2kfra8p0\\localcache\\local-packages\\python313\\site-packages (from yfinance) (3.18.2)\n",
            "Requirement already satisfied: beautifulsoup4>=4.11.1 in c:\\users\\Anonymous\\appdata\\local\\packages\\pythonsoftwarefoundation.python.3.13_qbz5n2kfra8p0\\localcache\\local-packages\\python313\\site-packages (from yfinance) (4.13.4)\n",
            "Requirement already satisfied: curl_cffi>=0.7 in c:\\users\\Anonymous\\appdata\\local\\packages\\pythonsoftwarefoundation.python.3.13_qbz5n2kfra8p0\\localcache\\local-packages\\python313\\site-packages (from yfinance) (0.12.0)\n",
            "Requirement already satisfied: protobuf>=3.19.0 in c:\\users\\Anonymous\\appdata\\local\\packages\\pythonsoftwarefoundation.python.3.13_qbz5n2kfra8p0\\localcache\\local-packages\\python313\\site-packages (from yfinance) (6.31.1)\n",
            "Requirement already satisfied: websockets>=13.0 in c:\\users\\Anonymous\\appdata\\local\\packages\\pythonsoftwarefoundation.python.3.13_qbz5n2kfra8p0\\localcache\\local-packages\\python313\\site-packages (from yfinance) (15.0.1)\n",
            "Requirement already satisfied: soupsieve>1.2 in c:\\users\\Anonymous\\appdata\\local\\packages\\pythonsoftwarefoundation.python.3.13_qbz5n2kfra8p0\\localcache\\local-packages\\python313\\site-packages (from beautifulsoup4>=4.11.1->yfinance) (2.7)\n",
            "Requirement already satisfied: typing-extensions>=4.0.0 in c:\\users\\Anonymous\\appdata\\local\\packages\\pythonsoftwarefoundation.python.3.13_qbz5n2kfra8p0\\localcache\\local-packages\\python313\\site-packages (from beautifulsoup4>=4.11.1->yfinance) (4.14.1)\n",
            "Requirement already satisfied: cffi>=1.12.0 in c:\\users\\Anonymous\\appdata\\local\\packages\\pythonsoftwarefoundation.python.3.13_qbz5n2kfra8p0\\localcache\\local-packages\\python313\\site-packages (from curl_cffi>=0.7->yfinance) (1.17.1)\n",
            "Requirement already satisfied: certifi>=2024.2.2 in c:\\users\\Anonymous\\appdata\\local\\packages\\pythonsoftwarefoundation.python.3.13_qbz5n2kfra8p0\\localcache\\local-packages\\python313\\site-packages (from curl_cffi>=0.7->yfinance) (2025.7.14)\n",
            "Requirement already satisfied: pycparser in c:\\users\\Anonymous\\appdata\\local\\packages\\pythonsoftwarefoundation.python.3.13_qbz5n2kfra8p0\\localcache\\local-packages\\python313\\site-packages (from cffi>=1.12.0->curl_cffi>=0.7->yfinance) (2.22)\n",
            "Requirement already satisfied: python-dateutil>=2.8.2 in c:\\users\\Anonymous\\appdata\\local\\packages\\pythonsoftwarefoundation.python.3.13_qbz5n2kfra8p0\\localcache\\local-packages\\python313\\site-packages (from pandas>=1.3.0->yfinance) (2.9.0.post0)\n",
            "Requirement already satisfied: tzdata>=2022.7 in c:\\users\\Anonymous\\appdata\\local\\packages\\pythonsoftwarefoundation.python.3.13_qbz5n2kfra8p0\\localcache\\local-packages\\python313\\site-packages (from pandas>=1.3.0->yfinance) (2025.2)\n",
            "Requirement already satisfied: six>=1.5 in c:\\users\\Anonymous\\appdata\\local\\packages\\pythonsoftwarefoundation.python.3.13_qbz5n2kfra8p0\\localcache\\local-packages\\python313\\site-packages (from python-dateutil>=2.8.2->pandas>=1.3.0->yfinance) (1.17.0)\n",
            "Requirement already satisfied: charset_normalizer<4,>=2 in c:\\users\\Anonymous\\appdata\\local\\packages\\pythonsoftwarefoundation.python.3.13_qbz5n2kfra8p0\\localcache\\local-packages\\python313\\site-packages (from requests>=2.31->yfinance) (3.4.2)\n",
            "Requirement already satisfied: idna<4,>=2.5 in c:\\users\\Anonymous\\appdata\\local\\packages\\pythonsoftwarefoundation.python.3.13_qbz5n2kfra8p0\\localcache\\local-packages\\python313\\site-packages (from requests>=2.31->yfinance) (3.10)\n",
            "Requirement already satisfied: urllib3<3,>=1.21.1 in c:\\users\\Anonymous\\appdata\\local\\packages\\pythonsoftwarefoundation.python.3.13_qbz5n2kfra8p0\\localcache\\local-packages\\python313\\site-packages (from requests>=2.31->yfinance) (2.5.0)\n",
            "Note: you may need to restart the kernel to use updated packages.\n",
            "Defaulting to user installation because normal site-packages is not writeable\n",
            "Requirement already satisfied: nltk in c:\\users\\Anonymous\\appdata\\local\\packages\\pythonsoftwarefoundation.python.3.13_qbz5n2kfra8p0\\localcache\\local-packages\\python313\\site-packages (3.9.1)\n",
            "Requirement already satisfied: click in c:\\users\\Anonymous\\appdata\\local\\packages\\pythonsoftwarefoundation.python.3.13_qbz5n2kfra8p0\\localcache\\local-packages\\python313\\site-packages (from nltk) (8.2.1)\n",
            "Requirement already satisfied: joblib in c:\\users\\Anonymous\\appdata\\local\\packages\\pythonsoftwarefoundation.python.3.13_qbz5n2kfra8p0\\localcache\\local-packages\\python313\\site-packages (from nltk) (1.5.1)\n",
            "Requirement already satisfied: regex>=2021.8.3 in c:\\users\\Anonymous\\appdata\\local\\packages\\pythonsoftwarefoundation.python.3.13_qbz5n2kfra8p0\\localcache\\local-packages\\python313\\site-packages (from nltk) (2024.11.6)\n",
            "Requirement already satisfied: tqdm in c:\\users\\Anonymous\\appdata\\local\\packages\\pythonsoftwarefoundation.python.3.13_qbz5n2kfra8p0\\localcache\\local-packages\\python313\\site-packages (from nltk) (4.67.1)\n",
            "Requirement already satisfied: colorama in c:\\users\\Anonymous\\appdata\\local\\packages\\pythonsoftwarefoundation.python.3.13_qbz5n2kfra8p0\\localcache\\local-packages\\python313\\site-packages (from click->nltk) (0.4.6)\n",
            "Note: you may need to restart the kernel to use updated packages.\n",
            "Defaulting to user installation because normal site-packages is not writeable\n",
            "Requirement already satisfied: vaderSentiment in c:\\users\\Anonymous\\appdata\\local\\packages\\pythonsoftwarefoundation.python.3.13_qbz5n2kfra8p0\\localcache\\local-packages\\python313\\site-packages (3.3.2)\n",
            "Requirement already satisfied: requests in c:\\users\\Anonymous\\appdata\\local\\packages\\pythonsoftwarefoundation.python.3.13_qbz5n2kfra8p0\\localcache\\local-packages\\python313\\site-packages (from vaderSentiment) (2.32.4)\n",
            "Requirement already satisfied: charset_normalizer<4,>=2 in c:\\users\\Anonymous\\appdata\\local\\packages\\pythonsoftwarefoundation.python.3.13_qbz5n2kfra8p0\\localcache\\local-packages\\python313\\site-packages (from requests->vaderSentiment) (3.4.2)\n",
            "Requirement already satisfied: idna<4,>=2.5 in c:\\users\\Anonymous\\appdata\\local\\packages\\pythonsoftwarefoundation.python.3.13_qbz5n2kfra8p0\\localcache\\local-packages\\python313\\site-packages (from requests->vaderSentiment) (3.10)\n",
            "Requirement already satisfied: urllib3<3,>=1.21.1 in c:\\users\\Anonymous\\appdata\\local\\packages\\pythonsoftwarefoundation.python.3.13_qbz5n2kfra8p0\\localcache\\local-packages\\python313\\site-packages (from requests->vaderSentiment) (2.5.0)\n",
            "Requirement already satisfied: certifi>=2017.4.17 in c:\\users\\Anonymous\\appdata\\local\\packages\\pythonsoftwarefoundation.python.3.13_qbz5n2kfra8p0\\localcache\\local-packages\\python313\\site-packages (from requests->vaderSentiment) (2025.7.14)\n",
            "Note: you may need to restart the kernel to use updated packages.\n",
            "Defaulting to user installation because normal site-packages is not writeable\n",
            "Requirement already satisfied: requests in c:\\users\\Anonymous\\appdata\\local\\packages\\pythonsoftwarefoundation.python.3.13_qbz5n2kfra8p0\\localcache\\local-packages\\python313\\site-packages (2.32.4)\n",
            "Requirement already satisfied: charset_normalizer<4,>=2 in c:\\users\\Anonymous\\appdata\\local\\packages\\pythonsoftwarefoundation.python.3.13_qbz5n2kfra8p0\\localcache\\local-packages\\python313\\site-packages (from requests) (3.4.2)\n",
            "Requirement already satisfied: idna<4,>=2.5 in c:\\users\\Anonymous\\appdata\\local\\packages\\pythonsoftwarefoundation.python.3.13_qbz5n2kfra8p0\\localcache\\local-packages\\python313\\site-packages (from requests) (3.10)\n",
            "Requirement already satisfied: urllib3<3,>=1.21.1 in c:\\users\\Anonymous\\appdata\\local\\packages\\pythonsoftwarefoundation.python.3.13_qbz5n2kfra8p0\\localcache\\local-packages\\python313\\site-packages (from requests) (2.5.0)\n",
            "Requirement already satisfied: certifi>=2017.4.17 in c:\\users\\Anonymous\\appdata\\local\\packages\\pythonsoftwarefoundation.python.3.13_qbz5n2kfra8p0\\localcache\\local-packages\\python313\\site-packages (from requests) (2025.7.14)\n",
            "Note: you may need to restart the kernel to use updated packages.\n",
            "Defaulting to user installation because normal site-packages is not writeable\n",
            "Collecting matplotlib\n",
            "  Using cached matplotlib-3.10.3-cp313-cp313-win_amd64.whl.metadata (11 kB)\n",
            "Requirement already satisfied: pandas in c:\\users\\Anonymous\\appdata\\local\\packages\\pythonsoftwarefoundation.python.3.13_qbz5n2kfra8p0\\localcache\\local-packages\\python313\\site-packages (2.3.1)\n",
            "Note: you may need to restart the kernel to use updated packages.\n"
          ]
        },
        {
          "name": "stderr",
          "output_type": "stream",
          "text": [
            "ERROR: Could not find a version that satisfies the requirement request (from versions: none)\n",
            "ERROR: No matching distribution found for request\n"
          ]
        }
      ],
      "source": [
        "%pip install yfinance\n",
        "%pip install nltk\n",
        "%pip install vaderSentiment\n",
        "%pip install requests\n",
        "%pip install matplotlib pandas request"
      ]
    },
    {
      "cell_type": "code",
      "execution_count": 10,
      "metadata": {
        "colab": {
          "base_uri": "https://localhost:8080/",
          "height": 204
        },
        "id": "eAOmhudyaniW",
        "outputId": "30ba0277-03c7-4355-e0dd-255c778f257f"
      },
      "outputs": [
        {
          "data": {
            "application/vnd.microsoft.datawrangler.viewer.v0+json": {
              "columns": [
                {
                  "name": "index",
                  "rawType": "int64",
                  "type": "integer"
                },
                {
                  "name": "Date",
                  "rawType": "datetime64[ns, America/New_York]",
                  "type": "unknown"
                },
                {
                  "name": "Open",
                  "rawType": "float64",
                  "type": "float"
                },
                {
                  "name": "High",
                  "rawType": "float64",
                  "type": "float"
                },
                {
                  "name": "Low",
                  "rawType": "float64",
                  "type": "float"
                },
                {
                  "name": "Close",
                  "rawType": "float64",
                  "type": "float"
                },
                {
                  "name": "Volume",
                  "rawType": "int64",
                  "type": "integer"
                },
                {
                  "name": "Dividends",
                  "rawType": "float64",
                  "type": "float"
                },
                {
                  "name": "Stock Splits",
                  "rawType": "float64",
                  "type": "float"
                }
              ],
              "ref": "35b5e1c2-9b06-45f6-9169-6bd0c0538390",
              "rows": [
                [
                  "0",
                  "2025-06-16 00:00:00-04:00",
                  "143.35000610351562",
                  "146.17999267578125",
                  "143.1999969482422",
                  "144.69000244140625",
                  "183133700",
                  "0.0",
                  "0.0"
                ],
                [
                  "1",
                  "2025-06-17 00:00:00-04:00",
                  "144.49000549316406",
                  "145.22000122070312",
                  "143.77999877929688",
                  "144.1199951171875",
                  "139108000",
                  "0.0",
                  "0.0"
                ],
                [
                  "2",
                  "2025-06-18 00:00:00-04:00",
                  "144.00999450683594",
                  "145.64999389648438",
                  "143.1199951171875",
                  "145.47999572753906",
                  "161494100",
                  "0.0",
                  "0.0"
                ],
                [
                  "3",
                  "2025-06-20 00:00:00-04:00",
                  "145.4499969482422",
                  "146.1999969482422",
                  "142.64999389648438",
                  "143.85000610351562",
                  "242956200",
                  "0.0",
                  "0.0"
                ],
                [
                  "4",
                  "2025-06-23 00:00:00-04:00",
                  "142.5",
                  "144.77999877929688",
                  "142.02999877929688",
                  "144.1699981689453",
                  "154308900",
                  "0.0",
                  "0.0"
                ]
              ],
              "shape": {
                "columns": 8,
                "rows": 5
              }
            },
            "text/html": [
              "<div>\n",
              "<style scoped>\n",
              "    .dataframe tbody tr th:only-of-type {\n",
              "        vertical-align: middle;\n",
              "    }\n",
              "\n",
              "    .dataframe tbody tr th {\n",
              "        vertical-align: top;\n",
              "    }\n",
              "\n",
              "    .dataframe thead th {\n",
              "        text-align: right;\n",
              "    }\n",
              "</style>\n",
              "<table border=\"1\" class=\"dataframe\">\n",
              "  <thead>\n",
              "    <tr style=\"text-align: right;\">\n",
              "      <th></th>\n",
              "      <th>Date</th>\n",
              "      <th>Open</th>\n",
              "      <th>High</th>\n",
              "      <th>Low</th>\n",
              "      <th>Close</th>\n",
              "      <th>Volume</th>\n",
              "      <th>Dividends</th>\n",
              "      <th>Stock Splits</th>\n",
              "    </tr>\n",
              "  </thead>\n",
              "  <tbody>\n",
              "    <tr>\n",
              "      <th>0</th>\n",
              "      <td>2025-06-16 00:00:00-04:00</td>\n",
              "      <td>143.350006</td>\n",
              "      <td>146.179993</td>\n",
              "      <td>143.199997</td>\n",
              "      <td>144.690002</td>\n",
              "      <td>183133700</td>\n",
              "      <td>0.0</td>\n",
              "      <td>0.0</td>\n",
              "    </tr>\n",
              "    <tr>\n",
              "      <th>1</th>\n",
              "      <td>2025-06-17 00:00:00-04:00</td>\n",
              "      <td>144.490005</td>\n",
              "      <td>145.220001</td>\n",
              "      <td>143.779999</td>\n",
              "      <td>144.119995</td>\n",
              "      <td>139108000</td>\n",
              "      <td>0.0</td>\n",
              "      <td>0.0</td>\n",
              "    </tr>\n",
              "    <tr>\n",
              "      <th>2</th>\n",
              "      <td>2025-06-18 00:00:00-04:00</td>\n",
              "      <td>144.009995</td>\n",
              "      <td>145.649994</td>\n",
              "      <td>143.119995</td>\n",
              "      <td>145.479996</td>\n",
              "      <td>161494100</td>\n",
              "      <td>0.0</td>\n",
              "      <td>0.0</td>\n",
              "    </tr>\n",
              "    <tr>\n",
              "      <th>3</th>\n",
              "      <td>2025-06-20 00:00:00-04:00</td>\n",
              "      <td>145.449997</td>\n",
              "      <td>146.199997</td>\n",
              "      <td>142.649994</td>\n",
              "      <td>143.850006</td>\n",
              "      <td>242956200</td>\n",
              "      <td>0.0</td>\n",
              "      <td>0.0</td>\n",
              "    </tr>\n",
              "    <tr>\n",
              "      <th>4</th>\n",
              "      <td>2025-06-23 00:00:00-04:00</td>\n",
              "      <td>142.500000</td>\n",
              "      <td>144.779999</td>\n",
              "      <td>142.029999</td>\n",
              "      <td>144.169998</td>\n",
              "      <td>154308900</td>\n",
              "      <td>0.0</td>\n",
              "      <td>0.0</td>\n",
              "    </tr>\n",
              "  </tbody>\n",
              "</table>\n",
              "</div>"
            ],
            "text/plain": [
              "                       Date        Open        High         Low       Close  \\\n",
              "0 2025-06-16 00:00:00-04:00  143.350006  146.179993  143.199997  144.690002   \n",
              "1 2025-06-17 00:00:00-04:00  144.490005  145.220001  143.779999  144.119995   \n",
              "2 2025-06-18 00:00:00-04:00  144.009995  145.649994  143.119995  145.479996   \n",
              "3 2025-06-20 00:00:00-04:00  145.449997  146.199997  142.649994  143.850006   \n",
              "4 2025-06-23 00:00:00-04:00  142.500000  144.779999  142.029999  144.169998   \n",
              "\n",
              "      Volume  Dividends  Stock Splits  \n",
              "0  183133700        0.0           0.0  \n",
              "1  139108000        0.0           0.0  \n",
              "2  161494100        0.0           0.0  \n",
              "3  242956200        0.0           0.0  \n",
              "4  154308900        0.0           0.0  "
            ]
          },
          "execution_count": 10,
          "metadata": {},
          "output_type": "execute_result"
        }
      ],
      "source": [
        "#Collect Stock Data\n",
        "import yfinance as yf\n",
        "import pandas as pd\n",
        "from datetime import datetime, timedelta\n",
        "import pandas as pd\n",
        "import nltk\n",
        "from nltk.corpus import stopwords\n",
        "from nltk.tokenize import word_tokenize\n",
        "from vaderSentiment.vaderSentiment import SentimentIntensityAnalyzer\n",
        "import matplotlib.pyplot as plt\n",
        "import requests\n",
        "\n",
        "# Specify the start and end dates\n",
        "start_date = \"2025-06-15\"\n",
        "end_date = datetime.now().strftime('%Y-%m-%d')\n",
        "\n",
        "# Collect Nvidia stock data from the specified date range\n",
        "nvidia_stock = yf.Ticker(\"NVDA\")\n",
        "stock_data = nvidia_stock.history(start=start_date, end=end_date)\n",
        "stock_data.reset_index(inplace=True)\n",
        "stock_data.head()"
      ]
    },
    {
      "cell_type": "code",
      "execution_count": 11,
      "metadata": {
        "colab": {
          "base_uri": "https://localhost:8080/",
          "height": 607
        },
        "id": "9IbMeZb3awVN",
        "outputId": "64e50160-236a-4bcd-8fc4-d4acd45e87da"
      },
      "outputs": [
        {
          "data": {
            "application/vnd.microsoft.datawrangler.viewer.v0+json": {
              "columns": [
                {
                  "name": "index",
                  "rawType": "int64",
                  "type": "integer"
                },
                {
                  "name": "Date",
                  "rawType": "datetime64[ns, America/New_York]",
                  "type": "unknown"
                },
                {
                  "name": "Open",
                  "rawType": "float64",
                  "type": "float"
                },
                {
                  "name": "High",
                  "rawType": "float64",
                  "type": "float"
                },
                {
                  "name": "Low",
                  "rawType": "float64",
                  "type": "float"
                },
                {
                  "name": "Close",
                  "rawType": "float64",
                  "type": "float"
                },
                {
                  "name": "Volume",
                  "rawType": "int64",
                  "type": "integer"
                },
                {
                  "name": "Dividends",
                  "rawType": "float64",
                  "type": "float"
                },
                {
                  "name": "Stock Splits",
                  "rawType": "float64",
                  "type": "float"
                }
              ],
              "ref": "d7a7f82d-0660-42ba-ab95-b240cd5855ea",
              "rows": [
                [
                  "0",
                  "2025-06-16 00:00:00-04:00",
                  "143.35000610351562",
                  "146.17999267578125",
                  "143.1999969482422",
                  "144.69000244140625",
                  "183133700",
                  "0.0",
                  "0.0"
                ],
                [
                  "1",
                  "2025-06-17 00:00:00-04:00",
                  "144.49000549316406",
                  "145.22000122070312",
                  "143.77999877929688",
                  "144.1199951171875",
                  "139108000",
                  "0.0",
                  "0.0"
                ],
                [
                  "2",
                  "2025-06-18 00:00:00-04:00",
                  "144.00999450683594",
                  "145.64999389648438",
                  "143.1199951171875",
                  "145.47999572753906",
                  "161494100",
                  "0.0",
                  "0.0"
                ],
                [
                  "3",
                  "2025-06-20 00:00:00-04:00",
                  "145.4499969482422",
                  "146.1999969482422",
                  "142.64999389648438",
                  "143.85000610351562",
                  "242956200",
                  "0.0",
                  "0.0"
                ],
                [
                  "4",
                  "2025-06-23 00:00:00-04:00",
                  "142.5",
                  "144.77999877929688",
                  "142.02999877929688",
                  "144.1699981689453",
                  "154308900",
                  "0.0",
                  "0.0"
                ],
                [
                  "5",
                  "2025-06-24 00:00:00-04:00",
                  "145.55999755859375",
                  "147.9600067138672",
                  "145.5",
                  "147.89999389648438",
                  "187566100",
                  "0.0",
                  "0.0"
                ],
                [
                  "6",
                  "2025-06-25 00:00:00-04:00",
                  "149.27000427246094",
                  "154.4499969482422",
                  "149.25999450683594",
                  "154.30999755859375",
                  "269146500",
                  "0.0",
                  "0.0"
                ],
                [
                  "7",
                  "2025-06-26 00:00:00-04:00",
                  "155.97999572753906",
                  "156.72000122070312",
                  "154.0",
                  "155.02000427246094",
                  "198145700",
                  "0.0",
                  "0.0"
                ],
                [
                  "8",
                  "2025-06-27 00:00:00-04:00",
                  "156.0399932861328",
                  "158.7100067138672",
                  "155.25999450683594",
                  "157.75",
                  "263234500",
                  "0.0",
                  "0.0"
                ],
                [
                  "9",
                  "2025-06-30 00:00:00-04:00",
                  "158.39999389648438",
                  "158.66000366210938",
                  "155.9600067138672",
                  "157.99000549316406",
                  "194580300",
                  "0.0",
                  "0.0"
                ],
                [
                  "10",
                  "2025-07-01 00:00:00-04:00",
                  "156.2899932861328",
                  "157.1999969482422",
                  "151.49000549316406",
                  "153.3000030517578",
                  "213143600",
                  "0.0",
                  "0.0"
                ],
                [
                  "11",
                  "2025-07-02 00:00:00-04:00",
                  "152.97999572753906",
                  "157.60000610351562",
                  "152.97000122070312",
                  "157.25",
                  "171224100",
                  "0.0",
                  "0.0"
                ],
                [
                  "12",
                  "2025-07-03 00:00:00-04:00",
                  "158.3699951171875",
                  "160.97999572753906",
                  "157.77000427246094",
                  "159.33999633789062",
                  "143716100",
                  "0.0",
                  "0.0"
                ],
                [
                  "13",
                  "2025-07-07 00:00:00-04:00",
                  "158.1999969482422",
                  "159.30999755859375",
                  "157.33999633789062",
                  "158.24000549316406",
                  "140139000",
                  "0.0",
                  "0.0"
                ],
                [
                  "14",
                  "2025-07-08 00:00:00-04:00",
                  "159.3300018310547",
                  "160.22000122070312",
                  "158.38999938964844",
                  "160.0",
                  "138133000",
                  "0.0",
                  "0.0"
                ],
                [
                  "15",
                  "2025-07-09 00:00:00-04:00",
                  "161.22000122070312",
                  "164.4199981689453",
                  "161.16000366210938",
                  "162.8800048828125",
                  "183656400",
                  "0.0",
                  "0.0"
                ],
                [
                  "16",
                  "2025-07-10 00:00:00-04:00",
                  "164.32000732421875",
                  "164.5",
                  "161.61000061035156",
                  "164.10000610351562",
                  "167704100",
                  "0.0",
                  "0.0"
                ],
                [
                  "17",
                  "2025-07-11 00:00:00-04:00",
                  "163.72000122070312",
                  "167.88999938964844",
                  "163.47000122070312",
                  "164.9199981689453",
                  "193633300",
                  "0.0",
                  "0.0"
                ],
                [
                  "18",
                  "2025-07-14 00:00:00-04:00",
                  "165.3699951171875",
                  "165.49000549316406",
                  "162.02000427246094",
                  "164.07000732421875",
                  "136658700",
                  "0.0",
                  "0.0"
                ]
              ],
              "shape": {
                "columns": 8,
                "rows": 19
              }
            },
            "text/html": [
              "<div>\n",
              "<style scoped>\n",
              "    .dataframe tbody tr th:only-of-type {\n",
              "        vertical-align: middle;\n",
              "    }\n",
              "\n",
              "    .dataframe tbody tr th {\n",
              "        vertical-align: top;\n",
              "    }\n",
              "\n",
              "    .dataframe thead th {\n",
              "        text-align: right;\n",
              "    }\n",
              "</style>\n",
              "<table border=\"1\" class=\"dataframe\">\n",
              "  <thead>\n",
              "    <tr style=\"text-align: right;\">\n",
              "      <th></th>\n",
              "      <th>Date</th>\n",
              "      <th>Open</th>\n",
              "      <th>High</th>\n",
              "      <th>Low</th>\n",
              "      <th>Close</th>\n",
              "      <th>Volume</th>\n",
              "      <th>Dividends</th>\n",
              "      <th>Stock Splits</th>\n",
              "    </tr>\n",
              "  </thead>\n",
              "  <tbody>\n",
              "    <tr>\n",
              "      <th>0</th>\n",
              "      <td>2025-06-16 00:00:00-04:00</td>\n",
              "      <td>143.350006</td>\n",
              "      <td>146.179993</td>\n",
              "      <td>143.199997</td>\n",
              "      <td>144.690002</td>\n",
              "      <td>183133700</td>\n",
              "      <td>0.0</td>\n",
              "      <td>0.0</td>\n",
              "    </tr>\n",
              "    <tr>\n",
              "      <th>1</th>\n",
              "      <td>2025-06-17 00:00:00-04:00</td>\n",
              "      <td>144.490005</td>\n",
              "      <td>145.220001</td>\n",
              "      <td>143.779999</td>\n",
              "      <td>144.119995</td>\n",
              "      <td>139108000</td>\n",
              "      <td>0.0</td>\n",
              "      <td>0.0</td>\n",
              "    </tr>\n",
              "    <tr>\n",
              "      <th>2</th>\n",
              "      <td>2025-06-18 00:00:00-04:00</td>\n",
              "      <td>144.009995</td>\n",
              "      <td>145.649994</td>\n",
              "      <td>143.119995</td>\n",
              "      <td>145.479996</td>\n",
              "      <td>161494100</td>\n",
              "      <td>0.0</td>\n",
              "      <td>0.0</td>\n",
              "    </tr>\n",
              "    <tr>\n",
              "      <th>3</th>\n",
              "      <td>2025-06-20 00:00:00-04:00</td>\n",
              "      <td>145.449997</td>\n",
              "      <td>146.199997</td>\n",
              "      <td>142.649994</td>\n",
              "      <td>143.850006</td>\n",
              "      <td>242956200</td>\n",
              "      <td>0.0</td>\n",
              "      <td>0.0</td>\n",
              "    </tr>\n",
              "    <tr>\n",
              "      <th>4</th>\n",
              "      <td>2025-06-23 00:00:00-04:00</td>\n",
              "      <td>142.500000</td>\n",
              "      <td>144.779999</td>\n",
              "      <td>142.029999</td>\n",
              "      <td>144.169998</td>\n",
              "      <td>154308900</td>\n",
              "      <td>0.0</td>\n",
              "      <td>0.0</td>\n",
              "    </tr>\n",
              "    <tr>\n",
              "      <th>5</th>\n",
              "      <td>2025-06-24 00:00:00-04:00</td>\n",
              "      <td>145.559998</td>\n",
              "      <td>147.960007</td>\n",
              "      <td>145.500000</td>\n",
              "      <td>147.899994</td>\n",
              "      <td>187566100</td>\n",
              "      <td>0.0</td>\n",
              "      <td>0.0</td>\n",
              "    </tr>\n",
              "    <tr>\n",
              "      <th>6</th>\n",
              "      <td>2025-06-25 00:00:00-04:00</td>\n",
              "      <td>149.270004</td>\n",
              "      <td>154.449997</td>\n",
              "      <td>149.259995</td>\n",
              "      <td>154.309998</td>\n",
              "      <td>269146500</td>\n",
              "      <td>0.0</td>\n",
              "      <td>0.0</td>\n",
              "    </tr>\n",
              "    <tr>\n",
              "      <th>7</th>\n",
              "      <td>2025-06-26 00:00:00-04:00</td>\n",
              "      <td>155.979996</td>\n",
              "      <td>156.720001</td>\n",
              "      <td>154.000000</td>\n",
              "      <td>155.020004</td>\n",
              "      <td>198145700</td>\n",
              "      <td>0.0</td>\n",
              "      <td>0.0</td>\n",
              "    </tr>\n",
              "    <tr>\n",
              "      <th>8</th>\n",
              "      <td>2025-06-27 00:00:00-04:00</td>\n",
              "      <td>156.039993</td>\n",
              "      <td>158.710007</td>\n",
              "      <td>155.259995</td>\n",
              "      <td>157.750000</td>\n",
              "      <td>263234500</td>\n",
              "      <td>0.0</td>\n",
              "      <td>0.0</td>\n",
              "    </tr>\n",
              "    <tr>\n",
              "      <th>9</th>\n",
              "      <td>2025-06-30 00:00:00-04:00</td>\n",
              "      <td>158.399994</td>\n",
              "      <td>158.660004</td>\n",
              "      <td>155.960007</td>\n",
              "      <td>157.990005</td>\n",
              "      <td>194580300</td>\n",
              "      <td>0.0</td>\n",
              "      <td>0.0</td>\n",
              "    </tr>\n",
              "    <tr>\n",
              "      <th>10</th>\n",
              "      <td>2025-07-01 00:00:00-04:00</td>\n",
              "      <td>156.289993</td>\n",
              "      <td>157.199997</td>\n",
              "      <td>151.490005</td>\n",
              "      <td>153.300003</td>\n",
              "      <td>213143600</td>\n",
              "      <td>0.0</td>\n",
              "      <td>0.0</td>\n",
              "    </tr>\n",
              "    <tr>\n",
              "      <th>11</th>\n",
              "      <td>2025-07-02 00:00:00-04:00</td>\n",
              "      <td>152.979996</td>\n",
              "      <td>157.600006</td>\n",
              "      <td>152.970001</td>\n",
              "      <td>157.250000</td>\n",
              "      <td>171224100</td>\n",
              "      <td>0.0</td>\n",
              "      <td>0.0</td>\n",
              "    </tr>\n",
              "    <tr>\n",
              "      <th>12</th>\n",
              "      <td>2025-07-03 00:00:00-04:00</td>\n",
              "      <td>158.369995</td>\n",
              "      <td>160.979996</td>\n",
              "      <td>157.770004</td>\n",
              "      <td>159.339996</td>\n",
              "      <td>143716100</td>\n",
              "      <td>0.0</td>\n",
              "      <td>0.0</td>\n",
              "    </tr>\n",
              "    <tr>\n",
              "      <th>13</th>\n",
              "      <td>2025-07-07 00:00:00-04:00</td>\n",
              "      <td>158.199997</td>\n",
              "      <td>159.309998</td>\n",
              "      <td>157.339996</td>\n",
              "      <td>158.240005</td>\n",
              "      <td>140139000</td>\n",
              "      <td>0.0</td>\n",
              "      <td>0.0</td>\n",
              "    </tr>\n",
              "    <tr>\n",
              "      <th>14</th>\n",
              "      <td>2025-07-08 00:00:00-04:00</td>\n",
              "      <td>159.330002</td>\n",
              "      <td>160.220001</td>\n",
              "      <td>158.389999</td>\n",
              "      <td>160.000000</td>\n",
              "      <td>138133000</td>\n",
              "      <td>0.0</td>\n",
              "      <td>0.0</td>\n",
              "    </tr>\n",
              "    <tr>\n",
              "      <th>15</th>\n",
              "      <td>2025-07-09 00:00:00-04:00</td>\n",
              "      <td>161.220001</td>\n",
              "      <td>164.419998</td>\n",
              "      <td>161.160004</td>\n",
              "      <td>162.880005</td>\n",
              "      <td>183656400</td>\n",
              "      <td>0.0</td>\n",
              "      <td>0.0</td>\n",
              "    </tr>\n",
              "    <tr>\n",
              "      <th>16</th>\n",
              "      <td>2025-07-10 00:00:00-04:00</td>\n",
              "      <td>164.320007</td>\n",
              "      <td>164.500000</td>\n",
              "      <td>161.610001</td>\n",
              "      <td>164.100006</td>\n",
              "      <td>167704100</td>\n",
              "      <td>0.0</td>\n",
              "      <td>0.0</td>\n",
              "    </tr>\n",
              "    <tr>\n",
              "      <th>17</th>\n",
              "      <td>2025-07-11 00:00:00-04:00</td>\n",
              "      <td>163.720001</td>\n",
              "      <td>167.889999</td>\n",
              "      <td>163.470001</td>\n",
              "      <td>164.919998</td>\n",
              "      <td>193633300</td>\n",
              "      <td>0.0</td>\n",
              "      <td>0.0</td>\n",
              "    </tr>\n",
              "    <tr>\n",
              "      <th>18</th>\n",
              "      <td>2025-07-14 00:00:00-04:00</td>\n",
              "      <td>165.369995</td>\n",
              "      <td>165.490005</td>\n",
              "      <td>162.020004</td>\n",
              "      <td>164.070007</td>\n",
              "      <td>136658700</td>\n",
              "      <td>0.0</td>\n",
              "      <td>0.0</td>\n",
              "    </tr>\n",
              "  </tbody>\n",
              "</table>\n",
              "</div>"
            ],
            "text/plain": [
              "                        Date        Open        High         Low       Close  \\\n",
              "0  2025-06-16 00:00:00-04:00  143.350006  146.179993  143.199997  144.690002   \n",
              "1  2025-06-17 00:00:00-04:00  144.490005  145.220001  143.779999  144.119995   \n",
              "2  2025-06-18 00:00:00-04:00  144.009995  145.649994  143.119995  145.479996   \n",
              "3  2025-06-20 00:00:00-04:00  145.449997  146.199997  142.649994  143.850006   \n",
              "4  2025-06-23 00:00:00-04:00  142.500000  144.779999  142.029999  144.169998   \n",
              "5  2025-06-24 00:00:00-04:00  145.559998  147.960007  145.500000  147.899994   \n",
              "6  2025-06-25 00:00:00-04:00  149.270004  154.449997  149.259995  154.309998   \n",
              "7  2025-06-26 00:00:00-04:00  155.979996  156.720001  154.000000  155.020004   \n",
              "8  2025-06-27 00:00:00-04:00  156.039993  158.710007  155.259995  157.750000   \n",
              "9  2025-06-30 00:00:00-04:00  158.399994  158.660004  155.960007  157.990005   \n",
              "10 2025-07-01 00:00:00-04:00  156.289993  157.199997  151.490005  153.300003   \n",
              "11 2025-07-02 00:00:00-04:00  152.979996  157.600006  152.970001  157.250000   \n",
              "12 2025-07-03 00:00:00-04:00  158.369995  160.979996  157.770004  159.339996   \n",
              "13 2025-07-07 00:00:00-04:00  158.199997  159.309998  157.339996  158.240005   \n",
              "14 2025-07-08 00:00:00-04:00  159.330002  160.220001  158.389999  160.000000   \n",
              "15 2025-07-09 00:00:00-04:00  161.220001  164.419998  161.160004  162.880005   \n",
              "16 2025-07-10 00:00:00-04:00  164.320007  164.500000  161.610001  164.100006   \n",
              "17 2025-07-11 00:00:00-04:00  163.720001  167.889999  163.470001  164.919998   \n",
              "18 2025-07-14 00:00:00-04:00  165.369995  165.490005  162.020004  164.070007   \n",
              "\n",
              "       Volume  Dividends  Stock Splits  \n",
              "0   183133700        0.0           0.0  \n",
              "1   139108000        0.0           0.0  \n",
              "2   161494100        0.0           0.0  \n",
              "3   242956200        0.0           0.0  \n",
              "4   154308900        0.0           0.0  \n",
              "5   187566100        0.0           0.0  \n",
              "6   269146500        0.0           0.0  \n",
              "7   198145700        0.0           0.0  \n",
              "8   263234500        0.0           0.0  \n",
              "9   194580300        0.0           0.0  \n",
              "10  213143600        0.0           0.0  \n",
              "11  171224100        0.0           0.0  \n",
              "12  143716100        0.0           0.0  \n",
              "13  140139000        0.0           0.0  \n",
              "14  138133000        0.0           0.0  \n",
              "15  183656400        0.0           0.0  \n",
              "16  167704100        0.0           0.0  \n",
              "17  193633300        0.0           0.0  \n",
              "18  136658700        0.0           0.0  "
            ]
          },
          "execution_count": 11,
          "metadata": {},
          "output_type": "execute_result"
        }
      ],
      "source": [
        "stock_data"
      ]
    },
    {
      "cell_type": "code",
      "execution_count": 12,
      "metadata": {
        "id": "Om_C_x2la00l"
      },
      "outputs": [],
      "source": [
        "api_key = '#enter_your_api_key'\n",
        "\n",
        "\n",
        "url = 'https://newsapi.org/v2/everything'\n",
        "params = {\n",
        "    'q': 'Nvidia',\n",
        "    'from': (datetime.now() - timedelta(days=28)).strftime('%Y-%m-%d'),  # Get articles from the last 30 days\n",
        "    'sortBy': 'relevancy',\n",
        "    'apiKey': api_key,\n",
        "    'pageSize': 100,  # Maximum number of results per page\n",
        "    'language': 'en'\n",
        "}\n",
        "\n",
        "# Make the request\n",
        "response = requests.get(url, params=params)\n",
        "data = response.json()\n",
        "\n",
        "# Check for errors\n",
        "if data['status'] != 'ok':\n",
        "    raise Exception(f\"NewsAPI error: {data['message']}\")\n",
        "\n",
        "# Extract articles\n",
        "articles = data['articles']\n",
        "\n",
        "# Convert to DataFrame\n",
        "news_data = pd.DataFrame(articles)\n",
        "news_data = news_data[['publishedAt', 'title']]\n",
        "news_data.columns = ['date', 'headline']"
      ]
    },
    {
      "cell_type": "code",
      "execution_count": 13,
      "metadata": {
        "colab": {
          "base_uri": "https://localhost:8080/",
          "height": 419
        },
        "id": "0m29cqEtbnqP",
        "outputId": "d695f7e9-c6fd-4554-a749-e2324a5a2312"
      },
      "outputs": [
        {
          "data": {
            "application/vnd.microsoft.datawrangler.viewer.v0+json": {
              "columns": [
                {
                  "name": "index",
                  "rawType": "int64",
                  "type": "integer"
                },
                {
                  "name": "date",
                  "rawType": "object",
                  "type": "string"
                },
                {
                  "name": "headline",
                  "rawType": "object",
                  "type": "string"
                }
              ],
              "ref": "081add80-11f0-4d10-b577-2b1752b7be2d",
              "rows": [
                [
                  "0",
                  "2025-07-09T17:14:33Z",
                  "It Started with Games, now It’s the World’s First Ever $4 Trillion Company"
                ],
                [
                  "1",
                  "2025-07-09T14:09:00Z",
                  "Nvidia Hits $4 Trillion Market Cap, First Company To Do So"
                ],
                [
                  "2",
                  "2025-07-09T20:06:37Z",
                  "Nvidia Beats Apple to $4 Trillion Market Value"
                ],
                [
                  "3",
                  "2025-06-17T20:04:45Z",
                  "Citi Raises NVIDIA Price Target, Keeps Buy Rating"
                ],
                [
                  "4",
                  "2025-07-11T15:58:30Z",
                  "How Nvidia's rise is minting so many millionaires among its relatively small workforce"
                ],
                [
                  "5",
                  "2025-07-09T12:35:29Z",
                  "Amazon Is Going All In, ASUS Strix G16 Gaming Laptop with RTX 5070i Suddenly Got a Lot Cheaper"
                ],
                [
                  "6",
                  "2025-06-30T23:35:06Z",
                  "Steam can now show you how much frame generation changes your games"
                ],
                [
                  "7",
                  "2025-06-26T20:09:25Z",
                  "Nvidia rally persists: What worries this analyst about AI trade"
                ],
                [
                  "8",
                  "2025-07-10T14:42:00Z",
                  "Intel CEO Says Company Has Fallen From 'Top 10' Semiconductor Firms, 'Too Late' To Catch Nvidia in AI"
                ],
                [
                  "9",
                  "2025-06-23T10:00:00Z",
                  "Taiwan Is Rushing to Make Its Own Drones Before It's Too Late"
                ],
                [
                  "10",
                  "2025-06-26T20:00:02Z",
                  "Nvidia Could Send This AI Networking Stock 6 Feet Underground"
                ],
                [
                  "11",
                  "2025-06-26T03:07:00Z",
                  "Veteran analyst drops bold new call on Nvidia stock"
                ],
                [
                  "12",
                  "2025-07-11T19:02:55Z",
                  "US senators warn Nvidia CEO about upcoming China trip"
                ],
                [
                  "13",
                  "2025-06-26T20:34:19Z",
                  "Dear Nvidia Stock Fans, Watch This Event Today Closely"
                ],
                [
                  "14",
                  "2025-07-10T20:32:56Z",
                  "Nvidia has 2 big 'upside opportunities' fueling long-term growth"
                ],
                [
                  "15",
                  "2025-07-10T08:29:14Z",
                  "Nvidia Hits $4 Trillion Valuation Milestone on AI Demand"
                ],
                [
                  "16",
                  "2025-06-17T17:10:00Z",
                  "LG’s C4 OLED TV has dropped to a new low price"
                ],
                [
                  "17",
                  "2025-07-13T11:11:49Z",
                  "Nvidia CEO to hold media briefing in Beijing on July 16"
                ],
                [
                  "18",
                  "2025-06-23T15:43:13Z",
                  "$1,400 can get you a powerful (and huge) HP Omen laptop with an RTX 5070"
                ],
                [
                  "19",
                  "2025-07-08T19:32:40Z",
                  "Samsung’s S90D OLED TV is at its lowest price ever for Prime Day and it’s great for gaming"
                ],
                [
                  "20",
                  "2025-07-13T18:05:15Z",
                  "Strap In, Vision Pro Owners"
                ],
                [
                  "21",
                  "2025-06-18T19:48:00Z",
                  "Buy Nvidia, AMD Supplier Micron Stock Down 20% for AI Growth"
                ],
                [
                  "22",
                  "2025-06-23T19:53:00Z",
                  "NVIDIA Forges Strategic AI Partnerships, Reports Strong Q1 2026 Results Despite Export Setbacks"
                ],
                [
                  "23",
                  "2025-07-10T19:00:00Z",
                  "Can SoundHound AI Stock Be the Next NVIDIA, and Is It a Buy?"
                ],
                [
                  "24",
                  "2025-07-05T10:00:43Z",
                  "Job-killing robot learns at work, and it’s coming to the factory floor"
                ],
                [
                  "25",
                  "2025-06-18T12:48:10Z",
                  "This LG 42-Inch C4 TV Drops to $699 (Was $1,499), Lowest Price Ever for an LG OLED TV"
                ],
                [
                  "26",
                  "2025-07-03T00:02:00Z",
                  "Intel's New CEO Explores Big Shift In Chip Manufacturing Business"
                ],
                [
                  "27",
                  "2025-07-11T21:06:42Z",
                  "Nvidia’s Jensen Huang says AI could lead to job losses ‘if the world runs out of ideas’"
                ],
                [
                  "28",
                  "2025-06-19T01:20:00Z",
                  "Texas Instruments To Invest $60 Billion To Make Semiconductors In US"
                ],
                [
                  "29",
                  "2025-06-25T17:20:07Z",
                  "Nvidia Stock Jumps After Record-Breaking Price Target Boost"
                ],
                [
                  "30",
                  "2025-07-04T13:29:48Z",
                  "Bill Gates is now worth less than his former assistant, after his fortune was recalculated to reflect his philanthropy"
                ],
                [
                  "31",
                  "2025-06-30T22:07:09Z",
                  "Nvidia insiders dump more than $1 billion in stock: report"
                ],
                [
                  "32",
                  "2025-06-25T20:55:44Z",
                  "Nvidia stock closes at new all-time high"
                ],
                [
                  "33",
                  "2025-06-24T01:22:30Z",
                  "Jensen Huang Starts Selling Nvidia Stock Under $865 Million Plan"
                ],
                [
                  "34",
                  "2025-06-22T15:25:16Z",
                  "The $14 Billion AI Google Killer"
                ],
                [
                  "35",
                  "2025-07-03T00:54:49Z",
                  "Microsoft Just Fired About 9,000 People While Making Billions"
                ],
                [
                  "36",
                  "2025-06-22T22:37:29Z",
                  "Elon Musk’s Trillion-Dollar Robotaxi Gamble Is Here"
                ],
                [
                  "37",
                  "2025-07-13T22:34:00Z",
                  "The CEO of Nvidia Admits What Everybody Is Afraid of About AI"
                ],
                [
                  "38",
                  "2025-07-10T13:18:19Z",
                  "NVIDIA became the first $4 trillion company — here's how the tech giant beat Microsoft and Apple"
                ],
                [
                  "39",
                  "2025-06-17T17:38:02Z",
                  "AMD's CDNA 4 Architecture Announcement – By Chester Lam"
                ],
                [
                  "40",
                  "2025-06-18T16:43:32Z",
                  "Here's what CEOs are telling their employees about how to use AI — and how not to lose their jobs to it"
                ],
                [
                  "41",
                  "2025-07-09T19:00:20Z",
                  "Ray tracing isn't Nvidia's killer USP anymore"
                ],
                [
                  "42",
                  "2025-07-09T23:01:20Z",
                  "I use this simple Nvidia feature to make games look even better at native resolution"
                ],
                [
                  "43",
                  "2025-06-24T10:00:19Z",
                  "I use this free, open-source tool on my Nvidia GPU for better DLSS and more control over how my games run"
                ],
                [
                  "44",
                  "2025-06-24T20:30:00Z",
                  "NVIDIA's most affordable RTX 50-series GPU is here for laptops, and it's coming to desktops in July — just don't expect any reviews"
                ],
                [
                  "45",
                  "2025-07-12T00:05:51Z",
                  "Faisal Islam: We are heading for significant tax rises"
                ],
                [
                  "46",
                  "2025-07-09T14:12:05Z",
                  "Nvidia beats Apple to a $4T valuation as it rides AI wave"
                ],
                [
                  "47",
                  "2025-07-07T11:34:00Z",
                  "The Startup-Filled Coder 'Village' at the Heart of China's AI Frenzy"
                ],
                [
                  "48",
                  "2025-07-01T10:00:20Z",
                  "3 features on Nvidia GPUs I have absolutely no use for"
                ],
                [
                  "49",
                  "2025-07-07T05:00:00Z",
                  "Building a Potato-based GLaDOS as an Introduction to AI"
                ]
              ],
              "shape": {
                "columns": 2,
                "rows": 100
              }
            },
            "text/html": [
              "<div>\n",
              "<style scoped>\n",
              "    .dataframe tbody tr th:only-of-type {\n",
              "        vertical-align: middle;\n",
              "    }\n",
              "\n",
              "    .dataframe tbody tr th {\n",
              "        vertical-align: top;\n",
              "    }\n",
              "\n",
              "    .dataframe thead th {\n",
              "        text-align: right;\n",
              "    }\n",
              "</style>\n",
              "<table border=\"1\" class=\"dataframe\">\n",
              "  <thead>\n",
              "    <tr style=\"text-align: right;\">\n",
              "      <th></th>\n",
              "      <th>date</th>\n",
              "      <th>headline</th>\n",
              "    </tr>\n",
              "  </thead>\n",
              "  <tbody>\n",
              "    <tr>\n",
              "      <th>0</th>\n",
              "      <td>2025-07-09T17:14:33Z</td>\n",
              "      <td>It Started with Games, now It’s the World’s Fi...</td>\n",
              "    </tr>\n",
              "    <tr>\n",
              "      <th>1</th>\n",
              "      <td>2025-07-09T14:09:00Z</td>\n",
              "      <td>Nvidia Hits $4 Trillion Market Cap, First Comp...</td>\n",
              "    </tr>\n",
              "    <tr>\n",
              "      <th>2</th>\n",
              "      <td>2025-07-09T20:06:37Z</td>\n",
              "      <td>Nvidia Beats Apple to $4 Trillion Market Value</td>\n",
              "    </tr>\n",
              "    <tr>\n",
              "      <th>3</th>\n",
              "      <td>2025-06-17T20:04:45Z</td>\n",
              "      <td>Citi Raises NVIDIA Price Target, Keeps Buy Rating</td>\n",
              "    </tr>\n",
              "    <tr>\n",
              "      <th>4</th>\n",
              "      <td>2025-07-11T15:58:30Z</td>\n",
              "      <td>How Nvidia's rise is minting so many millionai...</td>\n",
              "    </tr>\n",
              "    <tr>\n",
              "      <th>...</th>\n",
              "      <td>...</td>\n",
              "      <td>...</td>\n",
              "    </tr>\n",
              "    <tr>\n",
              "      <th>95</th>\n",
              "      <td>2025-06-29T12:00:34Z</td>\n",
              "      <td>Best Nintendo Switch 2 power banks</td>\n",
              "    </tr>\n",
              "    <tr>\n",
              "      <th>96</th>\n",
              "      <td>2025-06-25T09:26:17Z</td>\n",
              "      <td>UK govt dept website that campaigns against en...</td>\n",
              "    </tr>\n",
              "    <tr>\n",
              "      <th>97</th>\n",
              "      <td>2025-06-24T14:29:49Z</td>\n",
              "      <td>Nvidia RTX 5050 is official: 8GB, $250, coming...</td>\n",
              "    </tr>\n",
              "    <tr>\n",
              "      <th>98</th>\n",
              "      <td>2025-06-30T16:11:38Z</td>\n",
              "      <td>Nvidia tweaks DLSS to use 20% less VRAM for up...</td>\n",
              "    </tr>\n",
              "    <tr>\n",
              "      <th>99</th>\n",
              "      <td>2025-06-17T10:13:40Z</td>\n",
              "      <td>As Stellar Blade Hits 3 Million Copies Sold, D...</td>\n",
              "    </tr>\n",
              "  </tbody>\n",
              "</table>\n",
              "<p>100 rows × 2 columns</p>\n",
              "</div>"
            ],
            "text/plain": [
              "                    date                                           headline\n",
              "0   2025-07-09T17:14:33Z  It Started with Games, now It’s the World’s Fi...\n",
              "1   2025-07-09T14:09:00Z  Nvidia Hits $4 Trillion Market Cap, First Comp...\n",
              "2   2025-07-09T20:06:37Z     Nvidia Beats Apple to $4 Trillion Market Value\n",
              "3   2025-06-17T20:04:45Z  Citi Raises NVIDIA Price Target, Keeps Buy Rating\n",
              "4   2025-07-11T15:58:30Z  How Nvidia's rise is minting so many millionai...\n",
              "..                   ...                                                ...\n",
              "95  2025-06-29T12:00:34Z                 Best Nintendo Switch 2 power banks\n",
              "96  2025-06-25T09:26:17Z  UK govt dept website that campaigns against en...\n",
              "97  2025-06-24T14:29:49Z  Nvidia RTX 5050 is official: 8GB, $250, coming...\n",
              "98  2025-06-30T16:11:38Z  Nvidia tweaks DLSS to use 20% less VRAM for up...\n",
              "99  2025-06-17T10:13:40Z  As Stellar Blade Hits 3 Million Copies Sold, D...\n",
              "\n",
              "[100 rows x 2 columns]"
            ]
          },
          "execution_count": 13,
          "metadata": {},
          "output_type": "execute_result"
        }
      ],
      "source": [
        "news_data"
      ]
    },
    {
      "cell_type": "code",
      "execution_count": 14,
      "metadata": {
        "colab": {
          "base_uri": "https://localhost:8080/"
        },
        "id": "ZLSol7rpbq33",
        "outputId": "f55ea6e1-56af-4895-ac0f-ea019b4ea90e"
      },
      "outputs": [
        {
          "name": "stderr",
          "output_type": "stream",
          "text": [
            "[nltk_data] Downloading package punkt_tab to\n",
            "[nltk_data]     C:\\Users\\Anonymous\\AppData\\Roaming\\nltk_data...\n",
            "[nltk_data]   Package punkt_tab is already up-to-date!\n",
            "[nltk_data] Downloading package stopwords to\n",
            "[nltk_data]     C:\\Users\\Anonymous\\AppData\\Roaming\\nltk_data...\n",
            "[nltk_data]   Package stopwords is already up-to-date!\n"
          ]
        }
      ],
      "source": [
        "# Preprocess news headlines\n",
        "nltk.download('punkt_tab')\n",
        "nltk.download('stopwords')\n",
        "stop_words = set(stopwords.words('english'))\n",
        "\n",
        "def preprocess_text(text):\n",
        "    words = word_tokenize(text)\n",
        "    words = [word for word in words if word.isalpha()]\n",
        "    words = [word for word in words if word.lower() not in stop_words]\n",
        "    return ' '.join(words)\n",
        "\n",
        "news_data['cleaned_headline'] = news_data['headline'].apply(preprocess_text)\n",
        "\n",
        "# Perform sentiment analysis\n",
        "analyzer = SentimentIntensityAnalyzer()\n",
        "\n",
        "def get_sentiment_score(text):\n",
        "    score = analyzer.polarity_scores(text)\n",
        "    return score['compound']\n",
        "\n",
        "news_data['sentiment_score'] = news_data['cleaned_headline'].apply(get_sentiment_score)"
      ]
    },
    {
      "cell_type": "code",
      "execution_count": 15,
      "metadata": {
        "colab": {
          "base_uri": "https://localhost:8080/",
          "height": 850
        },
        "id": "ZIDs2utIcBKn",
        "outputId": "56bd8a13-8997-47b4-bac1-cb6b42b62061"
      },
      "outputs": [
        {
          "data": {
            "application/vnd.microsoft.datawrangler.viewer.v0+json": {
              "columns": [
                {
                  "name": "index",
                  "rawType": "int64",
                  "type": "integer"
                },
                {
                  "name": "date",
                  "rawType": "object",
                  "type": "string"
                },
                {
                  "name": "headline",
                  "rawType": "object",
                  "type": "string"
                },
                {
                  "name": "cleaned_headline",
                  "rawType": "object",
                  "type": "string"
                },
                {
                  "name": "sentiment_score",
                  "rawType": "float64",
                  "type": "float"
                }
              ],
              "ref": "e87189da-1ad6-4590-95e8-d7ba0f308cce",
              "rows": [
                [
                  "0",
                  "2025-07-09T17:14:33Z",
                  "It Started with Games, now It’s the World’s First Ever $4 Trillion Company",
                  "Started Games World First Ever Trillion Company",
                  "0.0"
                ],
                [
                  "1",
                  "2025-07-09T14:09:00Z",
                  "Nvidia Hits $4 Trillion Market Cap, First Company To Do So",
                  "Nvidia Hits Trillion Market Cap First Company",
                  "0.0"
                ],
                [
                  "2",
                  "2025-07-09T20:06:37Z",
                  "Nvidia Beats Apple to $4 Trillion Market Value",
                  "Nvidia Beats Apple Trillion Market Value",
                  "0.34"
                ],
                [
                  "3",
                  "2025-06-17T20:04:45Z",
                  "Citi Raises NVIDIA Price Target, Keeps Buy Rating",
                  "Citi Raises NVIDIA Price Target Keeps Buy Rating",
                  "0.0"
                ],
                [
                  "4",
                  "2025-07-11T15:58:30Z",
                  "How Nvidia's rise is minting so many millionaires among its relatively small workforce",
                  "Nvidia rise minting many millionaires among relatively small workforce",
                  "0.0"
                ],
                [
                  "5",
                  "2025-07-09T12:35:29Z",
                  "Amazon Is Going All In, ASUS Strix G16 Gaming Laptop with RTX 5070i Suddenly Got a Lot Cheaper",
                  "Amazon Going ASUS Strix Gaming Laptop RTX Suddenly Got Lot Cheaper",
                  "0.1779"
                ],
                [
                  "6",
                  "2025-06-30T23:35:06Z",
                  "Steam can now show you how much frame generation changes your games",
                  "Steam show much frame generation changes games",
                  "0.0"
                ],
                [
                  "7",
                  "2025-06-26T20:09:25Z",
                  "Nvidia rally persists: What worries this analyst about AI trade",
                  "Nvidia rally persists worries analyst AI trade",
                  "-0.4215"
                ],
                [
                  "8",
                  "2025-07-10T14:42:00Z",
                  "Intel CEO Says Company Has Fallen From 'Top 10' Semiconductor Firms, 'Too Late' To Catch Nvidia in AI",
                  "Intel CEO Says Company Fallen Semiconductor Firms Late Catch Nvidia AI",
                  "-0.3612"
                ],
                [
                  "9",
                  "2025-06-23T10:00:00Z",
                  "Taiwan Is Rushing to Make Its Own Drones Before It's Too Late",
                  "Taiwan Rushing Make Drones Late",
                  "0.0"
                ],
                [
                  "10",
                  "2025-06-26T20:00:02Z",
                  "Nvidia Could Send This AI Networking Stock 6 Feet Underground",
                  "Nvidia Could Send AI Networking Stock Feet Underground",
                  "0.0"
                ],
                [
                  "11",
                  "2025-06-26T03:07:00Z",
                  "Veteran analyst drops bold new call on Nvidia stock",
                  "Veteran analyst drops bold new call Nvidia stock",
                  "0.3818"
                ],
                [
                  "12",
                  "2025-07-11T19:02:55Z",
                  "US senators warn Nvidia CEO about upcoming China trip",
                  "US senators warn Nvidia CEO upcoming China trip",
                  "-0.1027"
                ],
                [
                  "13",
                  "2025-06-26T20:34:19Z",
                  "Dear Nvidia Stock Fans, Watch This Event Today Closely",
                  "Dear Nvidia Stock Fans Watch Event Today Closely",
                  "0.3818"
                ],
                [
                  "14",
                  "2025-07-10T20:32:56Z",
                  "Nvidia has 2 big 'upside opportunities' fueling long-term growth",
                  "Nvidia big opportunities fueling growth",
                  "0.6369"
                ],
                [
                  "15",
                  "2025-07-10T08:29:14Z",
                  "Nvidia Hits $4 Trillion Valuation Milestone on AI Demand",
                  "Nvidia Hits Trillion Valuation Milestone AI Demand",
                  "-0.128"
                ],
                [
                  "16",
                  "2025-06-17T17:10:00Z",
                  "LG’s C4 OLED TV has dropped to a new low price",
                  "LG OLED TV dropped new low price",
                  "-0.2732"
                ],
                [
                  "17",
                  "2025-07-13T11:11:49Z",
                  "Nvidia CEO to hold media briefing in Beijing on July 16",
                  "Nvidia CEO hold media briefing Beijing July",
                  "0.0"
                ],
                [
                  "18",
                  "2025-06-23T15:43:13Z",
                  "$1,400 can get you a powerful (and huge) HP Omen laptop with an RTX 5070",
                  "get powerful huge HP Omen laptop RTX",
                  "0.6249"
                ],
                [
                  "19",
                  "2025-07-08T19:32:40Z",
                  "Samsung’s S90D OLED TV is at its lowest price ever for Prime Day and it’s great for gaming",
                  "Samsung OLED TV lowest price ever Prime Day great gaming",
                  "0.3612"
                ],
                [
                  "20",
                  "2025-07-13T18:05:15Z",
                  "Strap In, Vision Pro Owners",
                  "Strap Vision Pro Owners",
                  "0.25"
                ],
                [
                  "21",
                  "2025-06-18T19:48:00Z",
                  "Buy Nvidia, AMD Supplier Micron Stock Down 20% for AI Growth",
                  "Buy Nvidia AMD Supplier Micron Stock AI Growth",
                  "0.3818"
                ],
                [
                  "22",
                  "2025-06-23T19:53:00Z",
                  "NVIDIA Forges Strategic AI Partnerships, Reports Strong Q1 2026 Results Despite Export Setbacks",
                  "NVIDIA Forges Strategic AI Partnerships Reports Strong Results Despite Export Setbacks",
                  "0.5106"
                ],
                [
                  "23",
                  "2025-07-10T19:00:00Z",
                  "Can SoundHound AI Stock Be the Next NVIDIA, and Is It a Buy?",
                  "SoundHound AI Stock Next NVIDIA Buy",
                  "0.0"
                ],
                [
                  "24",
                  "2025-07-05T10:00:43Z",
                  "Job-killing robot learns at work, and it’s coming to the factory floor",
                  "robot learns work coming factory floor",
                  "0.0"
                ],
                [
                  "25",
                  "2025-06-18T12:48:10Z",
                  "This LG 42-Inch C4 TV Drops to $699 (Was $1,499), Lowest Price Ever for an LG OLED TV",
                  "LG TV Drops Lowest Price Ever LG OLED TV",
                  "-0.3818"
                ],
                [
                  "26",
                  "2025-07-03T00:02:00Z",
                  "Intel's New CEO Explores Big Shift In Chip Manufacturing Business",
                  "Intel New CEO Explores Big Shift Chip Manufacturing Business",
                  "0.0"
                ],
                [
                  "27",
                  "2025-07-11T21:06:42Z",
                  "Nvidia’s Jensen Huang says AI could lead to job losses ‘if the world runs out of ideas’",
                  "Nvidia Jensen Huang says AI could lead job losses world runs ideas",
                  "-0.4019"
                ],
                [
                  "28",
                  "2025-06-19T01:20:00Z",
                  "Texas Instruments To Invest $60 Billion To Make Semiconductors In US",
                  "Texas Instruments Invest Billion Make Semiconductors US",
                  "0.0"
                ],
                [
                  "29",
                  "2025-06-25T17:20:07Z",
                  "Nvidia Stock Jumps After Record-Breaking Price Target Boost",
                  "Nvidia Stock Jumps Price Target Boost",
                  "0.4019"
                ],
                [
                  "30",
                  "2025-07-04T13:29:48Z",
                  "Bill Gates is now worth less than his former assistant, after his fortune was recalculated to reflect his philanthropy",
                  "Bill Gates worth less former assistant fortune recalculated reflect philanthropy",
                  "0.2263"
                ],
                [
                  "31",
                  "2025-06-30T22:07:09Z",
                  "Nvidia insiders dump more than $1 billion in stock: report",
                  "Nvidia insiders dump billion stock report",
                  "-0.3818"
                ],
                [
                  "32",
                  "2025-06-25T20:55:44Z",
                  "Nvidia stock closes at new all-time high",
                  "Nvidia stock closes new high",
                  "0.0"
                ],
                [
                  "33",
                  "2025-06-24T01:22:30Z",
                  "Jensen Huang Starts Selling Nvidia Stock Under $865 Million Plan",
                  "Jensen Huang Starts Selling Nvidia Stock Million Plan",
                  "0.0"
                ],
                [
                  "34",
                  "2025-06-22T15:25:16Z",
                  "The $14 Billion AI Google Killer",
                  "Billion AI Google Killer",
                  "-0.6486"
                ],
                [
                  "35",
                  "2025-07-03T00:54:49Z",
                  "Microsoft Just Fired About 9,000 People While Making Billions",
                  "Microsoft Fired People Making Billions",
                  "-0.5574"
                ],
                [
                  "36",
                  "2025-06-22T22:37:29Z",
                  "Elon Musk’s Trillion-Dollar Robotaxi Gamble Is Here",
                  "Elon Musk Robotaxi Gamble",
                  "0.0"
                ],
                [
                  "37",
                  "2025-07-13T22:34:00Z",
                  "The CEO of Nvidia Admits What Everybody Is Afraid of About AI",
                  "CEO Nvidia Admits Everybody Afraid AI",
                  "0.296"
                ],
                [
                  "38",
                  "2025-07-10T13:18:19Z",
                  "NVIDIA became the first $4 trillion company — here's how the tech giant beat Microsoft and Apple",
                  "NVIDIA became first trillion company tech giant beat Microsoft Apple",
                  "0.0"
                ],
                [
                  "39",
                  "2025-06-17T17:38:02Z",
                  "AMD's CDNA 4 Architecture Announcement – By Chester Lam",
                  "AMD CDNA Architecture Announcement Chester Lam",
                  "0.0"
                ],
                [
                  "40",
                  "2025-06-18T16:43:32Z",
                  "Here's what CEOs are telling their employees about how to use AI — and how not to lose their jobs to it",
                  "CEOs telling employees use AI lose jobs",
                  "-0.4019"
                ],
                [
                  "41",
                  "2025-07-09T19:00:20Z",
                  "Ray tracing isn't Nvidia's killer USP anymore",
                  "Ray tracing Nvidia killer USP anymore",
                  "-0.6486"
                ],
                [
                  "42",
                  "2025-07-09T23:01:20Z",
                  "I use this simple Nvidia feature to make games look even better at native resolution",
                  "use simple Nvidia feature make games look even better native resolution",
                  "0.4404"
                ],
                [
                  "43",
                  "2025-06-24T10:00:19Z",
                  "I use this free, open-source tool on my Nvidia GPU for better DLSS and more control over how my games run",
                  "use free tool Nvidia GPU better DLSS control games run",
                  "0.7351"
                ],
                [
                  "44",
                  "2025-06-24T20:30:00Z",
                  "NVIDIA's most affordable RTX 50-series GPU is here for laptops, and it's coming to desktops in July — just don't expect any reviews",
                  "NVIDIA affordable RTX GPU laptops coming desktops July expect reviews",
                  "0.0"
                ],
                [
                  "45",
                  "2025-07-12T00:05:51Z",
                  "Faisal Islam: We are heading for significant tax rises",
                  "Faisal Islam heading significant tax rises",
                  "0.2023"
                ],
                [
                  "46",
                  "2025-07-09T14:12:05Z",
                  "Nvidia beats Apple to a $4T valuation as it rides AI wave",
                  "Nvidia beats Apple valuation rides AI wave",
                  "0.0"
                ],
                [
                  "47",
                  "2025-07-07T11:34:00Z",
                  "The Startup-Filled Coder 'Village' at the Heart of China's AI Frenzy",
                  "Coder Heart China AI Frenzy",
                  "0.4404"
                ],
                [
                  "48",
                  "2025-07-01T10:00:20Z",
                  "3 features on Nvidia GPUs I have absolutely no use for",
                  "features Nvidia GPUs absolutely use",
                  "0.0"
                ],
                [
                  "49",
                  "2025-07-07T05:00:00Z",
                  "Building a Potato-based GLaDOS as an Introduction to AI",
                  "Building GLaDOS Introduction AI",
                  "0.0"
                ]
              ],
              "shape": {
                "columns": 4,
                "rows": 100
              }
            },
            "text/html": [
              "<div>\n",
              "<style scoped>\n",
              "    .dataframe tbody tr th:only-of-type {\n",
              "        vertical-align: middle;\n",
              "    }\n",
              "\n",
              "    .dataframe tbody tr th {\n",
              "        vertical-align: top;\n",
              "    }\n",
              "\n",
              "    .dataframe thead th {\n",
              "        text-align: right;\n",
              "    }\n",
              "</style>\n",
              "<table border=\"1\" class=\"dataframe\">\n",
              "  <thead>\n",
              "    <tr style=\"text-align: right;\">\n",
              "      <th></th>\n",
              "      <th>date</th>\n",
              "      <th>headline</th>\n",
              "      <th>cleaned_headline</th>\n",
              "      <th>sentiment_score</th>\n",
              "    </tr>\n",
              "  </thead>\n",
              "  <tbody>\n",
              "    <tr>\n",
              "      <th>0</th>\n",
              "      <td>2025-07-09T17:14:33Z</td>\n",
              "      <td>It Started with Games, now It’s the World’s Fi...</td>\n",
              "      <td>Started Games World First Ever Trillion Company</td>\n",
              "      <td>0.0000</td>\n",
              "    </tr>\n",
              "    <tr>\n",
              "      <th>1</th>\n",
              "      <td>2025-07-09T14:09:00Z</td>\n",
              "      <td>Nvidia Hits $4 Trillion Market Cap, First Comp...</td>\n",
              "      <td>Nvidia Hits Trillion Market Cap First Company</td>\n",
              "      <td>0.0000</td>\n",
              "    </tr>\n",
              "    <tr>\n",
              "      <th>2</th>\n",
              "      <td>2025-07-09T20:06:37Z</td>\n",
              "      <td>Nvidia Beats Apple to $4 Trillion Market Value</td>\n",
              "      <td>Nvidia Beats Apple Trillion Market Value</td>\n",
              "      <td>0.3400</td>\n",
              "    </tr>\n",
              "    <tr>\n",
              "      <th>3</th>\n",
              "      <td>2025-06-17T20:04:45Z</td>\n",
              "      <td>Citi Raises NVIDIA Price Target, Keeps Buy Rating</td>\n",
              "      <td>Citi Raises NVIDIA Price Target Keeps Buy Rating</td>\n",
              "      <td>0.0000</td>\n",
              "    </tr>\n",
              "    <tr>\n",
              "      <th>4</th>\n",
              "      <td>2025-07-11T15:58:30Z</td>\n",
              "      <td>How Nvidia's rise is minting so many millionai...</td>\n",
              "      <td>Nvidia rise minting many millionaires among re...</td>\n",
              "      <td>0.0000</td>\n",
              "    </tr>\n",
              "    <tr>\n",
              "      <th>...</th>\n",
              "      <td>...</td>\n",
              "      <td>...</td>\n",
              "      <td>...</td>\n",
              "      <td>...</td>\n",
              "    </tr>\n",
              "    <tr>\n",
              "      <th>95</th>\n",
              "      <td>2025-06-29T12:00:34Z</td>\n",
              "      <td>Best Nintendo Switch 2 power banks</td>\n",
              "      <td>Best Nintendo Switch power banks</td>\n",
              "      <td>0.6369</td>\n",
              "    </tr>\n",
              "    <tr>\n",
              "      <th>96</th>\n",
              "      <td>2025-06-25T09:26:17Z</td>\n",
              "      <td>UK govt dept website that campaigns against en...</td>\n",
              "      <td>UK govt dept website campaigns encryption hija...</td>\n",
              "      <td>0.0000</td>\n",
              "    </tr>\n",
              "    <tr>\n",
              "      <th>97</th>\n",
              "      <td>2025-06-24T14:29:49Z</td>\n",
              "      <td>Nvidia RTX 5050 is official: 8GB, $250, coming...</td>\n",
              "      <td>Nvidia RTX official coming July</td>\n",
              "      <td>0.0000</td>\n",
              "    </tr>\n",
              "    <tr>\n",
              "      <th>98</th>\n",
              "      <td>2025-06-30T16:11:38Z</td>\n",
              "      <td>Nvidia tweaks DLSS to use 20% less VRAM for up...</td>\n",
              "      <td>Nvidia tweaks DLSS use less VRAM upscaling</td>\n",
              "      <td>0.0000</td>\n",
              "    </tr>\n",
              "    <tr>\n",
              "      <th>99</th>\n",
              "      <td>2025-06-17T10:13:40Z</td>\n",
              "      <td>As Stellar Blade Hits 3 Million Copies Sold, D...</td>\n",
              "      <td>Stellar Blade Hits Million Copies Sold Dev Say...</td>\n",
              "      <td>0.0258</td>\n",
              "    </tr>\n",
              "  </tbody>\n",
              "</table>\n",
              "<p>100 rows × 4 columns</p>\n",
              "</div>"
            ],
            "text/plain": [
              "                    date                                           headline  \\\n",
              "0   2025-07-09T17:14:33Z  It Started with Games, now It’s the World’s Fi...   \n",
              "1   2025-07-09T14:09:00Z  Nvidia Hits $4 Trillion Market Cap, First Comp...   \n",
              "2   2025-07-09T20:06:37Z     Nvidia Beats Apple to $4 Trillion Market Value   \n",
              "3   2025-06-17T20:04:45Z  Citi Raises NVIDIA Price Target, Keeps Buy Rating   \n",
              "4   2025-07-11T15:58:30Z  How Nvidia's rise is minting so many millionai...   \n",
              "..                   ...                                                ...   \n",
              "95  2025-06-29T12:00:34Z                 Best Nintendo Switch 2 power banks   \n",
              "96  2025-06-25T09:26:17Z  UK govt dept website that campaigns against en...   \n",
              "97  2025-06-24T14:29:49Z  Nvidia RTX 5050 is official: 8GB, $250, coming...   \n",
              "98  2025-06-30T16:11:38Z  Nvidia tweaks DLSS to use 20% less VRAM for up...   \n",
              "99  2025-06-17T10:13:40Z  As Stellar Blade Hits 3 Million Copies Sold, D...   \n",
              "\n",
              "                                     cleaned_headline  sentiment_score  \n",
              "0     Started Games World First Ever Trillion Company           0.0000  \n",
              "1       Nvidia Hits Trillion Market Cap First Company           0.0000  \n",
              "2            Nvidia Beats Apple Trillion Market Value           0.3400  \n",
              "3    Citi Raises NVIDIA Price Target Keeps Buy Rating           0.0000  \n",
              "4   Nvidia rise minting many millionaires among re...           0.0000  \n",
              "..                                                ...              ...  \n",
              "95                   Best Nintendo Switch power banks           0.6369  \n",
              "96  UK govt dept website campaigns encryption hija...           0.0000  \n",
              "97                    Nvidia RTX official coming July           0.0000  \n",
              "98         Nvidia tweaks DLSS use less VRAM upscaling           0.0000  \n",
              "99  Stellar Blade Hits Million Copies Sold Dev Say...           0.0258  \n",
              "\n",
              "[100 rows x 4 columns]"
            ]
          },
          "execution_count": 15,
          "metadata": {},
          "output_type": "execute_result"
        }
      ],
      "source": [
        "news_data"
      ]
    },
    {
      "cell_type": "code",
      "execution_count": 18,
      "metadata": {
        "colab": {
          "base_uri": "https://localhost:8080/",
          "height": 632
        },
        "id": "DHU-a7n9cFNx",
        "outputId": "0d999584-3698-4c4e-90db-6eabdf1d72f5"
      },
      "outputs": [
        {
          "data": {
            "image/png": "[encoded data removed]",
            "text/plain": [
              "<Figure size 1400x700 with 2 Axes>"
            ]
          },
          "metadata": {},
          "output_type": "display_data"
        }
      ],
      "source": [
        "analyzer = SentimentIntensityAnalyzer()\n",
        "\n",
        "def get_sentiment_score(text):\n",
        "    score = analyzer.polarity_scores(text)\n",
        "    return score['compound']\n",
        "\n",
        "news_data['sentiment_score'] = news_data['cleaned_headline'].apply(get_sentiment_score)\n",
        "\n",
        "# Convert dates to datetime format\n",
        "news_data['date'] = pd.to_datetime(news_data['date']).dt.date\n",
        "stock_data['Date'] = pd.to_datetime(stock_data['Date']).dt.date\n",
        "\n",
        "# Aggregate sentiment scores by date\n",
        "aggregated_sentiment = news_data.groupby('date')['sentiment_score'].sum().reset_index()\n",
        "\n",
        "# Merge stock data with aggregated sentiment scores\n",
        "combined_data = pd.merge(stock_data, aggregated_sentiment, left_on='Date', right_on='date', how='inner')\n",
        "\n",
        "# Visualize the data with a secondary y-axis and bar plot for aggregated sentiment scores\n",
        "fig, ax1 = plt.subplots(figsize=(14, 7))\n",
        "\n",
        "ax1.set_xlabel('Date')\n",
        "ax1.set_ylabel('Nvidia Stock Price')\n",
        "ax1.plot(combined_data['Date'], combined_data['Close'], label='Nvidia Stock Price')\n",
        "ax1.tick_params(axis='y')\n",
        "ax1.set_ylim(80, 200)  # Set the left y-axis range\n",
        "\n",
        "ax2 = ax1.twinx()  # Instantiate a second axes that shares the same x-axis\n",
        "ax2.set_ylabel('Aggregated Sentiment Score')\n",
        "\n",
        "# Use different colors for positive and negative bar values\n",
        "colors = ['green' if val >= 0 else 'red' for val in combined_data['sentiment_score']]\n",
        "ax2.bar(combined_data['Date'], combined_data['sentiment_score'], label='Aggregated Sentiment Score', color=colors, alpha=0.6)\n",
        "ax2.tick_params(axis='y')\n",
        "ax2.set_ylim(-0.5, 4)  # Set the right y-axis range\n",
        "\n",
        "fig.tight_layout()\n",
        "plt.title('Nvidia Stock Price vs Aggregated Sentiment Score')\n",
        "fig.legend(loc='upper left', bbox_to_anchor=(0.1,0.9))\n",
        "plt.show()"
      ]
    }
  ],
  "metadata": {
    "colab": {
      "provenance": []
    },
    "kernelspec": {
      "display_name": "Python 3",
      "name": "python3"
    },
    "language_info": {
      "codemirror_mode": {
        "name": "ipython",
        "version": 3
      },
      "file_extension": ".py",
      "mimetype": "text/x-python",
      "name": "python",
      "nbconvert_exporter": "python",
      "pygments_lexer": "ipython3",
      "version": "3.13.5"
    }
  },
  "nbformat": 4,
  "nbformat_minor": 0
}
